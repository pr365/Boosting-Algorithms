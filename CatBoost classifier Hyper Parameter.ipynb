{
 "cells": [
  {
   "cell_type": "code",
   "execution_count": 19,
   "metadata": {},
   "outputs": [],
   "source": [
    "from sklearn.model_selection import train_test_split\n",
    "from sklearn.model_selection import GridSearchCV\n",
    "from sklearn.model_selection import RandomizedSearchCV\n",
    "from catboost import CatBoostClassifier\n",
    "import pandas as pd\n",
    "from scipy.stats import uniform as sp_randFloat\n",
    "from scipy.stats import randint as sp_randInt"
   ]
  },
  {
   "cell_type": "code",
   "execution_count": 5,
   "metadata": {},
   "outputs": [],
   "source": [
    "df = pd.read_csv(\"churn.csv\")"
   ]
  },
  {
   "cell_type": "code",
   "execution_count": 6,
   "metadata": {},
   "outputs": [],
   "source": [
    "labels=df.pop('Churn')\n",
    "label=['Churn']"
   ]
  },
  {
   "cell_type": "code",
   "execution_count": 7,
   "metadata": {},
   "outputs": [],
   "source": [
    "categorical_names=['Partner','gender','SeniorCitizen','Dependents','PhoneService','MultipleLines',\n",
    "             'InternetService','OnlineSecurity', 'OnlineBackup', 'DeviceProtection', 'TechSupport',\n",
    "       'StreamingTV', 'StreamingMovies', 'Contract', 'PaperlessBilling',\n",
    "       'PaymentMethod' ]\n"
   ]
  },
  {
   "cell_type": "code",
   "execution_count": 8,
   "metadata": {},
   "outputs": [],
   "source": [
    "from category_encoders import OrdinalEncoder\n",
    "\n",
    "ordinal_encoder = OrdinalEncoder(cols=categorical_names, handle_missing='return_nan')\n",
    "oe = OrdinalEncoder(cols=label, handle_missing='return_nan')\n",
    "\n",
    "df = ordinal_encoder.fit_transform(df)\n",
    "labels = oe.fit_transform(labels)"
   ]
  },
  {
   "cell_type": "code",
   "execution_count": 9,
   "metadata": {},
   "outputs": [],
   "source": [
    "categoricals = [df.columns.get_loc(i) for i in categorical_names]"
   ]
  },
  {
   "cell_type": "code",
   "execution_count": 10,
   "metadata": {},
   "outputs": [],
   "source": [
    "df=df.drop(columns=['customerID'])"
   ]
  },
  {
   "cell_type": "markdown",
   "metadata": {},
   "source": [
    "# Grid SearchCV#"
   ]
  },
  {
   "cell_type": "code",
   "execution_count": 23,
   "metadata": {
    "scrolled": true
   },
   "outputs": [
    {
     "name": "stdout",
     "output_type": "stream",
     "text": [
      "0:\tlearn: 0.6809108\ttotal: 8.84ms\tremaining: 698ms\n",
      "1:\tlearn: 0.6692082\ttotal: 11.7ms\tremaining: 455ms\n",
      "2:\tlearn: 0.6580528\ttotal: 15.9ms\tremaining: 408ms\n",
      "3:\tlearn: 0.6479762\ttotal: 20.2ms\tremaining: 383ms\n",
      "4:\tlearn: 0.6382759\ttotal: 24.3ms\tremaining: 365ms\n",
      "5:\tlearn: 0.6286374\ttotal: 28.9ms\tremaining: 357ms\n",
      "6:\tlearn: 0.6200616\ttotal: 34.3ms\tremaining: 357ms\n",
      "7:\tlearn: 0.6121514\ttotal: 38.5ms\tremaining: 347ms\n",
      "8:\tlearn: 0.6040401\ttotal: 42.7ms\tremaining: 337ms\n",
      "9:\tlearn: 0.5969342\ttotal: 46.8ms\tremaining: 328ms\n",
      "10:\tlearn: 0.5898089\ttotal: 51ms\tremaining: 320ms\n",
      "11:\tlearn: 0.5826082\ttotal: 55.1ms\tremaining: 312ms\n",
      "12:\tlearn: 0.5756932\ttotal: 59.2ms\tremaining: 305ms\n",
      "13:\tlearn: 0.5693898\ttotal: 66.2ms\tremaining: 312ms\n",
      "14:\tlearn: 0.5633557\ttotal: 70.4ms\tremaining: 305ms\n",
      "15:\tlearn: 0.5573459\ttotal: 74.5ms\tremaining: 298ms\n",
      "16:\tlearn: 0.5516328\ttotal: 78.6ms\tremaining: 291ms\n",
      "17:\tlearn: 0.5464549\ttotal: 82.9ms\tremaining: 285ms\n",
      "18:\tlearn: 0.5414569\ttotal: 87.2ms\tremaining: 280ms\n",
      "19:\tlearn: 0.5369017\ttotal: 89.7ms\tremaining: 269ms\n",
      "20:\tlearn: 0.5321731\ttotal: 94.9ms\tremaining: 267ms\n",
      "21:\tlearn: 0.5274252\ttotal: 99.1ms\tremaining: 261ms\n",
      "22:\tlearn: 0.5230585\ttotal: 104ms\tremaining: 257ms\n",
      "23:\tlearn: 0.5190853\ttotal: 107ms\tremaining: 249ms\n",
      "24:\tlearn: 0.5150550\ttotal: 111ms\tremaining: 245ms\n",
      "25:\tlearn: 0.5111732\ttotal: 115ms\tremaining: 240ms\n",
      "26:\tlearn: 0.5075392\ttotal: 120ms\tremaining: 235ms\n",
      "27:\tlearn: 0.5039778\ttotal: 124ms\tremaining: 231ms\n",
      "28:\tlearn: 0.5004280\ttotal: 129ms\tremaining: 226ms\n",
      "29:\tlearn: 0.4970291\ttotal: 133ms\tremaining: 222ms\n",
      "30:\tlearn: 0.4938610\ttotal: 138ms\tremaining: 218ms\n",
      "31:\tlearn: 0.4907038\ttotal: 141ms\tremaining: 212ms\n",
      "32:\tlearn: 0.4876229\ttotal: 146ms\tremaining: 207ms\n",
      "33:\tlearn: 0.4848526\ttotal: 150ms\tremaining: 203ms\n",
      "34:\tlearn: 0.4820569\ttotal: 154ms\tremaining: 199ms\n",
      "35:\tlearn: 0.4792701\ttotal: 159ms\tremaining: 194ms\n",
      "36:\tlearn: 0.4767397\ttotal: 164ms\tremaining: 190ms\n",
      "37:\tlearn: 0.4741492\ttotal: 168ms\tremaining: 186ms\n",
      "38:\tlearn: 0.4719313\ttotal: 172ms\tremaining: 181ms\n",
      "39:\tlearn: 0.4698191\ttotal: 174ms\tremaining: 174ms\n",
      "40:\tlearn: 0.4678919\ttotal: 177ms\tremaining: 168ms\n",
      "41:\tlearn: 0.4657326\ttotal: 181ms\tremaining: 164ms\n",
      "42:\tlearn: 0.4636939\ttotal: 189ms\tremaining: 163ms\n",
      "43:\tlearn: 0.4616575\ttotal: 194ms\tremaining: 158ms\n",
      "44:\tlearn: 0.4598211\ttotal: 198ms\tremaining: 154ms\n",
      "45:\tlearn: 0.4580006\ttotal: 201ms\tremaining: 148ms\n",
      "46:\tlearn: 0.4560784\ttotal: 205ms\tremaining: 144ms\n",
      "47:\tlearn: 0.4544107\ttotal: 208ms\tremaining: 139ms\n",
      "48:\tlearn: 0.4526163\ttotal: 213ms\tremaining: 134ms\n",
      "49:\tlearn: 0.4509973\ttotal: 218ms\tremaining: 131ms\n",
      "50:\tlearn: 0.4493815\ttotal: 222ms\tremaining: 126ms\n",
      "51:\tlearn: 0.4478053\ttotal: 227ms\tremaining: 122ms\n",
      "52:\tlearn: 0.4462793\ttotal: 231ms\tremaining: 118ms\n",
      "53:\tlearn: 0.4447100\ttotal: 235ms\tremaining: 113ms\n",
      "54:\tlearn: 0.4432530\ttotal: 240ms\tremaining: 109ms\n",
      "55:\tlearn: 0.4420751\ttotal: 242ms\tremaining: 104ms\n",
      "56:\tlearn: 0.4406964\ttotal: 247ms\tremaining: 99.6ms\n",
      "57:\tlearn: 0.4394999\ttotal: 251ms\tremaining: 95.3ms\n",
      "58:\tlearn: 0.4381876\ttotal: 256ms\tremaining: 91ms\n",
      "59:\tlearn: 0.4370206\ttotal: 260ms\tremaining: 86.8ms\n",
      "60:\tlearn: 0.4358272\ttotal: 264ms\tremaining: 82.1ms\n",
      "61:\tlearn: 0.4347086\ttotal: 268ms\tremaining: 77.9ms\n",
      "62:\tlearn: 0.4336668\ttotal: 273ms\tremaining: 73.6ms\n",
      "63:\tlearn: 0.4326829\ttotal: 279ms\tremaining: 69.8ms\n",
      "64:\tlearn: 0.4315699\ttotal: 286ms\tremaining: 66ms\n",
      "65:\tlearn: 0.4304274\ttotal: 290ms\tremaining: 61.6ms\n",
      "66:\tlearn: 0.4294314\ttotal: 295ms\tremaining: 57.2ms\n",
      "67:\tlearn: 0.4284100\ttotal: 299ms\tremaining: 52.8ms\n",
      "68:\tlearn: 0.4273553\ttotal: 304ms\tremaining: 48.4ms\n",
      "69:\tlearn: 0.4266100\ttotal: 307ms\tremaining: 43.9ms\n",
      "70:\tlearn: 0.4256963\ttotal: 311ms\tremaining: 39.5ms\n",
      "71:\tlearn: 0.4247697\ttotal: 316ms\tremaining: 35.1ms\n",
      "72:\tlearn: 0.4239419\ttotal: 321ms\tremaining: 30.8ms\n",
      "73:\tlearn: 0.4231421\ttotal: 325ms\tremaining: 26.4ms\n",
      "74:\tlearn: 0.4222371\ttotal: 330ms\tremaining: 22ms\n",
      "75:\tlearn: 0.4214355\ttotal: 334ms\tremaining: 17.6ms\n",
      "76:\tlearn: 0.4207075\ttotal: 341ms\tremaining: 13.3ms\n",
      "77:\tlearn: 0.4200354\ttotal: 345ms\tremaining: 8.85ms\n",
      "78:\tlearn: 0.4192593\ttotal: 350ms\tremaining: 4.42ms\n",
      "79:\tlearn: 0.4184656\ttotal: 354ms\tremaining: 0us\n",
      " Results from Grid Search \n",
      "\n",
      " The best estimator across ALL searched params:\n",
      " <catboost.core.CatBoostClassifier object at 0x000002967C89BFC8>\n",
      "\n",
      " The best score across ALL searched params:\n",
      " 0.8078258125591669\n",
      "\n",
      " The best parameters across ALL searched params:\n",
      " {'depth': 7, 'iterations': 80, 'learning_rate': 0.03}\n"
     ]
    }
   ],
   "source": [
    "X = df; y = labels\n",
    "X_train, X_test, y_train, y_test = train_test_split(X, y, test_size=0.10)\n",
    "    \n",
    "    #Using GridSearchCV\n",
    "CBC = CatBoostClassifier()\n",
    "parameters = {'depth'         : [7,8,9,10,11,12],\n",
    "              'learning_rate' : [0.03,0.04,0.05,0.06,0.07],\n",
    "              'iterations'    : [50,60,70,80,90,100,110,120]\n",
    "             }\n",
    "\n",
    "Grid_CBC = GridSearchCV(estimator=CBC, param_grid = parameters,\n",
    "                               cv = 2,  n_jobs=-1)\n",
    "Grid_CBC.fit(X_train, y_train)\n",
    "\n",
    "    # Results from Grid Search\n",
    "print(\" Results from Grid Search \" )\n",
    "print(\"\\n The best estimator across ALL searched params:\\n\",Grid_CBC.best_estimator_)\n",
    "print(\"\\n The best score across ALL searched params:\\n\",Grid_CBC.best_score_)\n",
    "print(\"\\n The best parameters across ALL searched params:\\n\",Grid_CBC.best_params_)"
   ]
  },
  {
   "cell_type": "markdown",
   "metadata": {},
   "source": [
    "# Random SearchCV"
   ]
  },
  {
   "cell_type": "code",
   "execution_count": 22,
   "metadata": {},
   "outputs": [
    {
     "name": "stdout",
     "output_type": "stream",
     "text": [
      "0:\tlearn: 0.6040586\ttotal: 5.89ms\tremaining: 424ms\n",
      "1:\tlearn: 0.5444887\ttotal: 9.75ms\tremaining: 346ms\n",
      "2:\tlearn: 0.5112132\ttotal: 18.5ms\tremaining: 433ms\n",
      "3:\tlearn: 0.4830918\ttotal: 26.2ms\tremaining: 452ms\n",
      "4:\tlearn: 0.4646547\ttotal: 38.4ms\tremaining: 522ms\n",
      "5:\tlearn: 0.4471872\ttotal: 46.5ms\tremaining: 519ms\n",
      "6:\tlearn: 0.4358257\ttotal: 54.3ms\tremaining: 512ms\n",
      "7:\tlearn: 0.4253132\ttotal: 63.2ms\tremaining: 513ms\n",
      "8:\tlearn: 0.4166825\ttotal: 71.3ms\tremaining: 507ms\n",
      "9:\tlearn: 0.4093593\ttotal: 78.9ms\tremaining: 497ms\n",
      "10:\tlearn: 0.4042463\ttotal: 81.6ms\tremaining: 460ms\n",
      "11:\tlearn: 0.3987084\ttotal: 89.1ms\tremaining: 453ms\n",
      "12:\tlearn: 0.3943901\ttotal: 99.3ms\tremaining: 458ms\n",
      "13:\tlearn: 0.3901406\ttotal: 107ms\tremaining: 452ms\n",
      "14:\tlearn: 0.3863557\ttotal: 115ms\tremaining: 443ms\n",
      "15:\tlearn: 0.3822242\ttotal: 122ms\tremaining: 436ms\n",
      "16:\tlearn: 0.3789307\ttotal: 130ms\tremaining: 427ms\n",
      "17:\tlearn: 0.3759034\ttotal: 138ms\tremaining: 421ms\n",
      "18:\tlearn: 0.3724629\ttotal: 145ms\tremaining: 413ms\n",
      "19:\tlearn: 0.3693698\ttotal: 153ms\tremaining: 407ms\n",
      "20:\tlearn: 0.3672633\ttotal: 162ms\tremaining: 402ms\n",
      "21:\tlearn: 0.3642700\ttotal: 170ms\tremaining: 394ms\n",
      "22:\tlearn: 0.3624320\ttotal: 177ms\tremaining: 385ms\n",
      "23:\tlearn: 0.3595708\ttotal: 185ms\tremaining: 378ms\n",
      "24:\tlearn: 0.3569012\ttotal: 195ms\tremaining: 375ms\n",
      "25:\tlearn: 0.3563115\ttotal: 198ms\tremaining: 357ms\n",
      "26:\tlearn: 0.3538418\ttotal: 206ms\tremaining: 351ms\n",
      "27:\tlearn: 0.3522350\ttotal: 214ms\tremaining: 345ms\n",
      "28:\tlearn: 0.3501688\ttotal: 223ms\tremaining: 338ms\n",
      "29:\tlearn: 0.3490871\ttotal: 231ms\tremaining: 332ms\n",
      "30:\tlearn: 0.3473185\ttotal: 240ms\tremaining: 325ms\n",
      "31:\tlearn: 0.3470385\ttotal: 241ms\tremaining: 309ms\n",
      "32:\tlearn: 0.3446408\ttotal: 250ms\tremaining: 303ms\n",
      "33:\tlearn: 0.3424238\ttotal: 258ms\tremaining: 296ms\n",
      "34:\tlearn: 0.3404175\ttotal: 266ms\tremaining: 289ms\n",
      "35:\tlearn: 0.3386572\ttotal: 273ms\tremaining: 281ms\n",
      "36:\tlearn: 0.3371023\ttotal: 281ms\tremaining: 274ms\n",
      "37:\tlearn: 0.3348085\ttotal: 291ms\tremaining: 268ms\n",
      "38:\tlearn: 0.3336883\ttotal: 299ms\tremaining: 261ms\n",
      "39:\tlearn: 0.3331588\ttotal: 307ms\tremaining: 253ms\n",
      "40:\tlearn: 0.3314132\ttotal: 315ms\tremaining: 245ms\n",
      "41:\tlearn: 0.3304031\ttotal: 325ms\tremaining: 240ms\n",
      "42:\tlearn: 0.3297845\ttotal: 332ms\tremaining: 232ms\n",
      "43:\tlearn: 0.3289033\ttotal: 340ms\tremaining: 224ms\n",
      "44:\tlearn: 0.3281162\ttotal: 348ms\tremaining: 217ms\n",
      "45:\tlearn: 0.3275268\ttotal: 358ms\tremaining: 210ms\n",
      "46:\tlearn: 0.3264500\ttotal: 365ms\tremaining: 202ms\n",
      "47:\tlearn: 0.3253139\ttotal: 374ms\tremaining: 195ms\n",
      "48:\tlearn: 0.3245351\ttotal: 383ms\tremaining: 188ms\n",
      "49:\tlearn: 0.3237694\ttotal: 393ms\tremaining: 181ms\n",
      "50:\tlearn: 0.3232202\ttotal: 401ms\tremaining: 173ms\n",
      "51:\tlearn: 0.3224676\ttotal: 409ms\tremaining: 165ms\n",
      "52:\tlearn: 0.3217386\ttotal: 416ms\tremaining: 157ms\n",
      "53:\tlearn: 0.3213923\ttotal: 435ms\tremaining: 153ms\n",
      "54:\tlearn: 0.3206883\ttotal: 443ms\tremaining: 145ms\n",
      "55:\tlearn: 0.3192420\ttotal: 452ms\tremaining: 137ms\n",
      "56:\tlearn: 0.3186707\ttotal: 459ms\tremaining: 129ms\n",
      "57:\tlearn: 0.3169854\ttotal: 467ms\tremaining: 121ms\n",
      "58:\tlearn: 0.3166244\ttotal: 475ms\tremaining: 113ms\n",
      "59:\tlearn: 0.3162989\ttotal: 482ms\tremaining: 105ms\n",
      "60:\tlearn: 0.3159360\ttotal: 490ms\tremaining: 96.4ms\n",
      "61:\tlearn: 0.3156595\ttotal: 498ms\tremaining: 88.3ms\n",
      "62:\tlearn: 0.3141341\ttotal: 505ms\tremaining: 80.2ms\n",
      "63:\tlearn: 0.3124861\ttotal: 513ms\tremaining: 72.1ms\n",
      "64:\tlearn: 0.3122429\ttotal: 520ms\tremaining: 64ms\n",
      "65:\tlearn: 0.3111786\ttotal: 528ms\tremaining: 56ms\n",
      "66:\tlearn: 0.3104320\ttotal: 535ms\tremaining: 47.9ms\n",
      "67:\tlearn: 0.3096365\ttotal: 542ms\tremaining: 39.9ms\n",
      "68:\tlearn: 0.3084721\ttotal: 549ms\tremaining: 31.9ms\n",
      "69:\tlearn: 0.3078774\ttotal: 559ms\tremaining: 23.9ms\n",
      "70:\tlearn: 0.3072947\ttotal: 566ms\tremaining: 15.9ms\n",
      "71:\tlearn: 0.3062456\ttotal: 573ms\tremaining: 7.96ms\n",
      "72:\tlearn: 0.3056662\ttotal: 581ms\tremaining: 0us\n",
      " Results from Random Search \n",
      "\n",
      " The best estimator across ALL searched params:\n",
      " <catboost.core.CatBoostClassifier object at 0x000002967C581788>\n",
      "\n",
      " The best score across ALL searched params:\n",
      " 0.7995077622112836\n",
      "\n",
      " The best parameters across ALL searched params:\n",
      " {'depth': 9, 'iterations': 73, 'learning_rate': 0.2514041467432563}\n"
     ]
    }
   ],
   "source": [
    "X = df; y = labels\n",
    "X_train, X_test, y_train, y_test = train_test_split(X, y, test_size=0.25)\n",
    "    \n",
    "    #Using RandomSearchCV\n",
    "model = CatBoostClassifier()\n",
    "parameters = {'depth'         : sp_randInt(4,10),\n",
    "              'learning_rate' : sp_randFloat(),\n",
    "              'iterations'    : sp_randInt(10,100)\n",
    "             }\n",
    "randm = RandomizedSearchCV(estimator=model,param_distributions=parameters,cv = 2,n_iter=10,n_jobs=-1)\n",
    "\n",
    "randm.fit(X_train, y_train)\n",
    "\n",
    "    # Results from Random Search\n",
    "print(\" Results from Random Search \" )\n",
    "print(\"\\n The best estimator across ALL searched params:\\n\",randm.best_estimator_)\n",
    "print(\"\\n The best score across ALL searched params:\\n\",randm.best_score_)\n",
    "print(\"\\n The best parameters across ALL searched params:\\n\",randm.best_params_)"
   ]
  },
  {
   "cell_type": "markdown",
   "metadata": {},
   "source": [
    "# Baysian Optimization"
   ]
  },
  {
   "cell_type": "code",
   "execution_count": null,
   "metadata": {},
   "outputs": [],
   "source": [
    "import numpy as np \n",
    "import pandas as pd\n",
    "from sklearn.model_selection import train_test_split\n",
    "from sklearn.metrics import mean_squared_error\n",
    "from sklearn.model_selection import KFold\n",
    "from sklearn.metrics import mean_absolute_error\n",
    "from sklearn.metrics import r2_score\n",
    "from sklearn.preprocessing import LabelEncoder\n",
    "from sklearn.preprocessing import StandardScaler\n",
    "from sklearn.preprocessing import MinMaxScaler\n",
    "np.random.seed(0)\n",
    "from sklearn.model_selection import RandomizedSearchCV\n",
    "from catboost import CatBoostRegressor, Pool\n",
    "from catboost import CatBoostClassifier \n",
    "from hyperopt import fmin, hp, tpe\n",
    "from sklearn.metrics import accuracy_score"
   ]
  },
  {
   "cell_type": "code",
   "execution_count": null,
   "metadata": {},
   "outputs": [],
   "source": [
    "df = pd.read_csv(\"churn.csv\")"
   ]
  },
  {
   "cell_type": "code",
   "execution_count": null,
   "metadata": {},
   "outputs": [],
   "source": [
    "labels=df.pop('Churn')\n",
    "label=['Churn']"
   ]
  },
  {
   "cell_type": "code",
   "execution_count": null,
   "metadata": {},
   "outputs": [],
   "source": [
    "categorical_names=['Partner','gender','SeniorCitizen','Dependents','PhoneService','MultipleLines',\n",
    "             'InternetService','OnlineSecurity', 'OnlineBackup', 'DeviceProtection', 'TechSupport',\n",
    "       'StreamingTV', 'StreamingMovies', 'Contract', 'PaperlessBilling',\n",
    "       'PaymentMethod' ]"
   ]
  },
  {
   "cell_type": "code",
   "execution_count": null,
   "metadata": {},
   "outputs": [],
   "source": [
    "from category_encoders import OrdinalEncoder\n",
    "\n",
    "ordinal_encoder = OrdinalEncoder(cols=categorical_names, handle_missing='return_nan')\n",
    "oe = OrdinalEncoder(cols=label, handle_missing='return_nan')\n",
    "\n",
    "df = ordinal_encoder.fit_transform(df)\n",
    "labels = oe.fit_transform(labels)"
   ]
  },
  {
   "cell_type": "code",
   "execution_count": null,
   "metadata": {},
   "outputs": [],
   "source": [
    "categoricals = [df.columns.get_loc(i) for i in categorical_names]"
   ]
  },
  {
   "cell_type": "code",
   "execution_count": null,
   "metadata": {},
   "outputs": [],
   "source": [
    "df=df.drop(columns=['customerID'])\n",
    "df=df.astype(int)"
   ]
  },
  {
   "cell_type": "code",
   "execution_count": null,
   "metadata": {},
   "outputs": [],
   "source": [
    "nfolds = 5\n",
    "skf = KFold(n_splits=nfolds, shuffle=True)\n",
    "rmse_arr = []\n",
    "mae_arr=[]\n",
    "r2_arr=[]\n",
    "for train_index, test_index in skf.split(df):\n",
    "    X_train, X_test = df.iloc[train_index].copy(), df.iloc[test_index].copy()\n",
    "    y_train, y_test = labels.iloc[train_index], labels.iloc[test_index]\n",
    "    train_pool = Pool(X_train, y_train, cat_features = categoricals)\n",
    "    test_pool = Pool(X_test, y_test, cat_features = categoricals)\n",
    "    model = CatBoostClassifier(depth= 2.0, iterations= 30.0,\n",
    "                              learning_rate= 0.043407394327976086,\n",
    "                             loss_function='Logloss'\n",
    "                              ) \n",
    "    model.fit(train_pool)\n",
    "    predictions = model.predict(test_pool)\n",
    "    rmse = np.sqrt(mean_squared_error(y_test, predictions))\n",
    "    rmse_arr.append(rmse)\n",
    "    mae = mean_absolute_error(y_test, predictions)\n",
    "    mae_arr.append(mae)\n",
    "    r2 = r2_score(y_test, predictions)\n",
    "    r2_arr.append(r2)\n",
    "\n",
    "mean_rmse = sum(rmse_arr) / nfolds"
   ]
  },
  {
   "cell_type": "code",
   "execution_count": null,
   "metadata": {},
   "outputs": [],
   "source": [
    "print(' Mean RMSE based on 5 folds: ',mean_rmse)\n",
    "print(' RMSE Score for all  % folds: ',rmse_arr)\n",
    "print(' Mean MAE based on 5 folds: ',sum(mae_arr)/nfolds)\n",
    "print(' MAE Score for all  % folds: ',mae_arr)\n",
    "print(' Mean R2 based on 5 folds: ',sum(r2_arr)/nfolds)\n",
    "print(' R2 Score for all  % folds: ',r2_arr)"
   ]
  },
  {
   "cell_type": "code",
   "execution_count": null,
   "metadata": {},
   "outputs": [],
   "source": [
    "search_space = {'iterations': hp.quniform('iterations', 10, 1000, 10),'depth': hp.quniform('depth', 2, 12, 1),\n",
    "                 'lr': hp.uniform('lr', 0.01, 1) }"
   ]
  },
  {
   "cell_type": "code",
   "execution_count": null,
   "metadata": {},
   "outputs": [],
   "source": [
    "def opt_fn(search_space):\n",
    "    nfolds = 5\n",
    "    skf = KFold(n_splits=nfolds, shuffle=True)\n",
    "    rmse_arr = []\n",
    "\n",
    "    for train_index, test_index in skf.split(df):\n",
    "        X_train, X_test = df.iloc[train_index].copy(), df.iloc[test_index].copy()\n",
    "        y_train, y_test = labels.iloc[train_index], labels.iloc[test_index]\n",
    "        train_pool = Pool(X_train, y_train, cat_features = categoricals)\n",
    "        test_pool = Pool(X_test, y_test, cat_features = categoricals)\n",
    "        model = CatBoostClassifier(iterations=search_space['iterations'],\n",
    "                                 depth=search_space['depth'],\n",
    "                                 learning_rate=search_space['lr'],\n",
    "                                 loss_function='Logloss',\n",
    "                                 od_type='Iter')\n",
    "        \n",
    "        model.fit(train_pool, logging_level='Silent')\n",
    "        predictions = model.predict(test_pool)\n",
    "        rmse = np.sqrt(mean_squared_error(y_test, predictions))\n",
    "        rmse_arr.append(rmse)\n",
    "\n",
    "    mean_acc = sum(rmse_arr) / nfolds\n",
    "    return mean_acc\n",
    "\n",
    "best = fmin(fn=opt_fn, \n",
    "            space=search_space, \n",
    "            algo=tpe.suggest, \n",
    "            max_evals=10)\n",
    "\n",
    "print(best)"
   ]
  }
 ],
 "metadata": {
  "kernelspec": {
   "display_name": "Python 3",
   "language": "python",
   "name": "python3"
  },
  "language_info": {
   "codemirror_mode": {
    "name": "ipython",
    "version": 3
   },
   "file_extension": ".py",
   "mimetype": "text/x-python",
   "name": "python",
   "nbconvert_exporter": "python",
   "pygments_lexer": "ipython3",
   "version": "3.7.4"
  }
 },
 "nbformat": 4,
 "nbformat_minor": 4
}
